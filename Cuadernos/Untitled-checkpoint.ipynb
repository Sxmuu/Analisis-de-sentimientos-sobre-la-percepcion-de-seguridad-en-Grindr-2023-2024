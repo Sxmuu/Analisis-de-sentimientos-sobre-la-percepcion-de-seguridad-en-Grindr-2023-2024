{
 "cells": [
  {
   "cell_type": "code",
   "execution_count": 1,
   "id": "63525121",
   "metadata": {},
   "outputs": [
    {
     "name": "stdout",
     "output_type": "stream",
     "text": [
      "Collecting google-play-scraper\n",
      "  Obtaining dependency information for google-play-scraper from https://files.pythonhosted.org/packages/6e/8f/27f17ab4f1c0a2351bed104b7ea82e67271676a6d571ca3b753cc03b1b94/google_play_scraper-1.2.6-py3-none-any.whl.metadata\n",
      "  Downloading google_play_scraper-1.2.6-py3-none-any.whl.metadata (50 kB)\n",
      "     ---------------------------------------- 0.0/50.2 kB ? eta -:--:--\n",
      "     --------------- ---------------------- 20.5/50.2 kB 330.3 kB/s eta 0:00:01\n",
      "     -------------------------------------- 50.2/50.2 kB 512.9 kB/s eta 0:00:00\n",
      "Downloading google_play_scraper-1.2.6-py3-none-any.whl (28 kB)\n",
      "Installing collected packages: google-play-scraper\n",
      "Successfully installed google-play-scraper-1.2.6\n"
     ]
    }
   ],
   "source": [
    "!pip install google-play-scraper"
   ]
  },
  {
   "cell_type": "code",
   "execution_count": 5,
   "id": "8af99b79",
   "metadata": {},
   "outputs": [
    {
     "name": "stdout",
     "output_type": "stream",
     "text": [
      "{'title': 'Grindr - Gay chat', 'description': 'Grindr is the world’s #1 free dating app serving the LGBTQ community. If you’re gay, bi, trans, queer, or even just curious, Grindr is the best and easiest way to meet new people for friendships, hookups, dates, and whatever else you’re looking for. \\r\\n\\r\\nOn a trip? Grindr is an indispensable tool for LGBTQ travelers—log in to meet locals and get recommendations for bars, restaurants, events, and more. With Grindr in your pocket, you’ll always be connected to other LGBTQ people around you and have your finger on the pulse of what’s happening.\\r\\n\\r\\nReady to get started? Creating your profile is easy, and you can share as much or little about yourself as you like. Within minutes you’ll be ready to connect, chat, and meet up with people near you.\\r\\n\\r\\nGrindr is faster and better than ever:\\r\\n\\r\\n• See people nearby based on your location\\r\\n• Chat and share private photos\\r\\n• Add tags to share your interests\\r\\n• Search tags to find others based on their interests\\r\\n• Create private albums to share (and unshare) multiple photos at once\\r\\n• Filter your search to find what you want\\r\\n• Star your favorites and block others\\r\\n• Report people easily and safely\\r\\n\\r\\nLooking for even more? Upgrade your Grindr experience to XTRA for more features, more control, and more fun:\\r\\n\\r\\n• No 3rd party ads\\r\\n• See up to 600 profiles at once\\r\\n• View only people who are online now\\r\\n• View only profiles with a photo\\r\\n• Filter by position, relationship status, and more\\r\\n\\r\\nWant the ultimate Grindr experience? Upgrade to Grindr Unlimited for our most premium features:\\r\\n\\r\\n• Unlimited profiles\\r\\n• Full access to your Viewed Me list\\r\\n• Incognito mode - browse profiles without being seen\\r\\n• Unsend messages and photos\\r\\n• All XTRA features\\r\\n\\r\\nNeed help? If you are experiencing any issues, you can get support by contacting us through https://help.grindr.com\\r\\n\\r\\nGrindr Ads:\\r\\n\\r\\nGrindr (excluding XTRA and Unlimited accounts) includes third-party advertising, which involves the sharing of limited data with our Ad/Marketing partners as described in our privacy policy. Grindr does not share any of your Grindr profile information with Advertising or Marketing partners. You can adjust your third-party advertising privacy settings within the app at any time. \\r\\n\\r\\nGrindr Subscriptions:\\r\\n\\r\\nYour subscription automatically renews unless auto-renew is turned off at least 24 hours before the end of the current period. Your iTunes account will automatically be charged at the renewal price within 24 hours prior to the end of the current period unless you change your subscription preferences in your App Store account settings. You can manage your subscriptions at any time through your App Store account settings after purchase. Any unused portion of a free trial period will be forfeited when making a purchase of an auto-renewing subscription.\\r\\n\\r\\nGrindr, Grindr XTRA & Grindr Unlimited are for adults 18 years and older only. Profile photos depicting nudity or sex acts are strictly prohibited.\\r\\n\\r\\nTerms of Service: www.grindr.com/terms-of-service/\\r\\nPrivacy Policy: www.grindr.com/privacy-policy/', 'descriptionHTML': 'Grindr is the world’s #1 free dating app serving the LGBTQ community. If you’re gay, bi, trans, queer, or even just curious, Grindr is the best and easiest way to meet new people for friendships, hookups, dates, and whatever else you’re looking for. <br><br>On a trip? Grindr is an indispensable tool for LGBTQ travelers—log in to meet locals and get recommendations for bars, restaurants, events, and more. With Grindr in your pocket, you’ll always be connected to other LGBTQ people around you and have your finger on the pulse of what’s happening.<br><br>Ready to get started? Creating your profile is easy, and you can share as much or little about yourself as you like. Within minutes you’ll be ready to connect, chat, and meet up with people near you.<br><br>Grindr is faster and better than ever:<br><br>• See people nearby based on your location<br>• Chat and share private photos<br>• Add tags to share your interests<br>• Search tags to find others based on their interests<br>• Create private albums to share (and unshare) multiple photos at once<br>• Filter your search to find what you want<br>• Star your favorites and block others<br>• Report people easily and safely<br><br>Looking for even more? Upgrade your Grindr experience to XTRA for more features, more control, and more fun:<br><br>• No 3rd party ads<br>• See up to 600 profiles at once<br>• View only people who are online now<br>• View only profiles with a photo<br>• Filter by position, relationship status, and more<br><br>Want the ultimate Grindr experience? Upgrade to Grindr Unlimited for our most premium features:<br><br>• Unlimited profiles<br>• Full access to your Viewed Me list<br>• Incognito mode - browse profiles without being seen<br>• Unsend messages and photos<br>• All XTRA features<br><br>Need help? If you are experiencing any issues, you can get support by contacting us through https://help.grindr.com<br><br>Grindr Ads:<br><br>Grindr (excluding XTRA and Unlimited accounts) includes third-party advertising, which involves the sharing of limited data with our Ad/Marketing partners as described in our privacy policy. Grindr does not share any of your Grindr profile information with Advertising or Marketing partners. You can adjust your third-party advertising privacy settings within the app at any time. <br><br>Grindr Subscriptions:<br><br>Your subscription automatically renews unless auto-renew is turned off at least 24 hours before the end of the current period. Your iTunes account will automatically be charged at the renewal price within 24 hours prior to the end of the current period unless you change your subscription preferences in your App Store account settings. You can manage your subscriptions at any time through your App Store account settings after purchase. Any unused portion of a free trial period will be forfeited when making a purchase of an auto-renewing subscription.<br><br>Grindr, Grindr XTRA &amp; Grindr Unlimited are for adults 18 years and older only. Profile photos depicting nudity or sex acts are strictly prohibited.<br><br>Terms of Service: www.grindr.com/terms-of-service/<br>Privacy Policy: www.grindr.com/privacy-policy/', 'summary': \"The world's leading social networking app for gay, bi, trans, and queer people.\", 'installs': '50,000,000+', 'minInstalls': 50000000, 'realInstalls': 61544000, 'score': 3.5123224, 'ratings': 894258, 'reviews': 68880, 'histogram': [236137, 48628, 72285, 95340, 441856], 'price': 0, 'free': True, 'currency': 'USD', 'sale': False, 'saleTime': None, 'originalPrice': None, 'saleText': None, 'offersIAP': True, 'inAppProductPrice': '$0.99 - $399.99 per item', 'developer': 'Grindr LLC', 'developerId': 'Grindr+LLC', 'developerEmail': 'help-android@grindr.com', 'developerWebsite': 'http://www.grindr.com', 'developerAddress': '750 N. San Vicente Blvd\\nWest Hollywood\\nCA\\n90069\\nUSA', 'privacyPolicy': 'http://grindr.com/privacy-policy', 'genre': 'Social', 'genreId': 'SOCIAL', 'categories': [{'name': 'Social', 'id': 'SOCIAL'}], 'icon': 'https://play-lh.googleusercontent.com/D2eK7iIql3Xb7Nx2k2Pasoi7kG-vS2vTJ2uQpJ4DIk3MZEzEhfFr0n2qOC0-QeITTzE', 'headerImage': 'https://play-lh.googleusercontent.com/RSKM0KlefmnVNQnUbaa7OKvKuk6awzZF_fZNtYv-c6pBI9dvB0ozrf56KjfdcdiMCh7H', 'screenshots': ['https://play-lh.googleusercontent.com/nRJzO-CrVEVnlRcv5jKdMgZe_A1YzRgPUKHsfwjyCWI3O1ZmM2_3JWIN4E5hIhWczlM', 'https://play-lh.googleusercontent.com/qVav5zeNULdjttbv_YpsgHbOZTxjgdq6w-P7xP7oITz6Q0HiU1CkKaPVUBOg9IBJkL0', 'https://play-lh.googleusercontent.com/hiju-PAj-nDJz8yVlnctzBJypQgQlCviiTIqoS5yk62VQ27bw1G67LQ3Wqd-h3hKO-I', 'https://play-lh.googleusercontent.com/3K9ODXsd4Kg3x5qo0GVKwnLs1P9ALJKDVnzHvyvvhI7--PyCBsSpdMFcytbDS2y3Wmp9', 'https://play-lh.googleusercontent.com/omEGyCUsT-LMqvJXNiIsgmjkC4Ah0-a7ySuf_N_PyWc4BGvI0pkSB4-00eliMONpN5U', 'https://play-lh.googleusercontent.com/mXUrQNOKIBg7fqJn26mt7p8nWqRTv_KZRE51vyvjG69t0CEMpDk6g7hR1gjAzaq1RYY'], 'video': None, 'videoImage': None, 'contentRating': 'Mature 17+', 'contentRatingDescription': None, 'adSupported': True, 'containsAds': True, 'released': 'Feb 25, 2011', 'lastUpdatedOn': 'May 14, 2024', 'updated': 1715704206, 'version': '24.5.0', 'comments': [], 'appId': 'com.grindrapp.android', 'url': 'https://play.google.com/store/apps/details?id=com.grindrapp.android&hl=en&gl=us'}\n"
     ]
    }
   ],
   "source": [
    "from google_play_scraper import app\n",
    "\n",
    "result = app(\n",
    "    'com.grindrapp.android',\n",
    "    lang='en', # defaults to 'en'\n",
    "    country='us' # defaults to 'us'\n",
    ")\n",
    "print(result)"
   ]
  },
  {
   "cell_type": "code",
   "execution_count": null,
   "id": "fccc15ff",
   "metadata": {},
   "outputs": [],
   "source": [
    "from google_play_scraper import Sort, reviews\n",
    "import pandas as pd\n",
    "\n",
    "# Definir los países e idiomas a utilizar\n",
    "countries_langs = [\n",
    "    ('us', 'en'),  # Estados Unidos, Inglés\n",
    "    ('mx', 'es'),  # México, Español\n",
    "    ('br', 'pt'),  # Brasil, Portugués\n",
    "    ('fr', 'fr'),  # Francia, Francés\n",
    "    ('de', 'de')   # Alemania, Alemán\n",
    "]\n",
    "\n",
    "# Inicializar una lista para almacenar los DataFrames\n",
    "dfs = []\n",
    "\n",
    "# Definir el límite máximo de iteraciones por país e idioma\n",
    "max_iterations = 1000000000\n",
    "\n",
    "# Obtener comentarios para cada país e idioma\n",
    "for country, lang in countries_langs:\n",
    "    result, continuation_token = reviews(\n",
    "        'com.grindrapp.android',\n",
    "        lang=lang,\n",
    "        country=country,\n",
    "        count=100000000,  # Aumenta el número de comentarios solicitados\n",
    "        filter_score_with=None  # Elimina el filtro de calificación\n",
    "    )\n",
    "\n",
    "    # Convertir el resultado en un DataFrame de pandas\n",
    "    commentsDF = pd.DataFrame(result)\n",
    "\n",
    "    # Contador de iteraciones\n",
    "    iterations = 0\n",
    "\n",
    "    # Obtener más comentarios usando el continuation_token\n",
    "    while continuation_token and iterations < max_iterations:\n",
    "        more_results, continuation_token = reviews(\n",
    "            'com.grindrapp.android',\n",
    "            continuation_token=continuation_token,\n",
    "            lang=lang,\n",
    "            country=country,\n",
    "            count=1000000000,\n",
    "            filter_score_with=None\n",
    "        )\n",
    "\n",
    "        # Convertir los nuevos resultados en un DataFrame y concatenarlos con el DataFrame original\n",
    "        more_commentsDF = pd.DataFrame(more_results)\n",
    "        commentsDF = pd.concat([commentsDF, more_commentsDF], ignore_index=True)\n",
    "\n",
    "        # Incrementar el contador de iteraciones\n",
    "        iterations += 1\n",
    "\n",
    "    # Agregar el DataFrame a la lista\n",
    "    dfs.append(commentsDF)\n",
    "\n",
    "# Concatenar todos los DataFrames en uno solo\n",
    "all_commentsDF = pd.concat(dfs, ignore_index=True)\n",
    "\n",
    "all_commentsDF.sample(10)"
   ]
  },
  {
   "cell_type": "code",
   "execution_count": 41,
   "id": "1827bd26",
   "metadata": {},
   "outputs": [
    {
     "data": {
      "text/plain": [
       "(2786, 11)"
      ]
     },
     "execution_count": 41,
     "metadata": {},
     "output_type": "execute_result"
    }
   ],
   "source": [
    "all_commentsDF.shape"
   ]
  },
  {
   "cell_type": "code",
   "execution_count": null,
   "id": "e53fc4f1",
   "metadata": {},
   "outputs": [],
   "source": []
  }
 ],
 "metadata": {
  "kernelspec": {
   "display_name": "Python 3 (ipykernel)",
   "language": "python",
   "name": "python3"
  },
  "language_info": {
   "codemirror_mode": {
    "name": "ipython",
    "version": 3
   },
   "file_extension": ".py",
   "mimetype": "text/x-python",
   "name": "python",
   "nbconvert_exporter": "python",
   "pygments_lexer": "ipython3",
   "version": "3.11.5"
  }
 },
 "nbformat": 4,
 "nbformat_minor": 5
}
